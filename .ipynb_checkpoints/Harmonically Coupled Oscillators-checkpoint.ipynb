{
 "cells": [
  {
   "cell_type": "markdown",
   "id": "50f797ac-079f-499c-b044-d945bb757dcc",
   "metadata": {},
   "source": [
    "$U(Q_1,Q_2) = \\frac{1}{2} K_1 Q_1^2 + \\frac{1}{2} K_2 Q_2^2 + C Q_1 Q_2^2$"
   ]
  },
  {
   "cell_type": "markdown",
   "id": "f2ad49cd-9124-440c-9e66-c6800008c581",
   "metadata": {},
   "source": [
    "Create a Jupyter Notebook which defines the energy above and plots in two side-by-side panels:\n",
    "\n",
    "- Plot $U(Q_1,Q_2)$ with $Q_1$ on the horizonal axis and $Q_2=0$\n",
    "- Add several lines with fixed positive and negative values of $Q_2$ chosen to explore the possible effect of $Q_2$ on $Q_1$\n",
    "- Add a second panel which plots $U(Q_1,Q_2)$\n",
    "- Add an `ipywidgets` environment so that you can explore what different values of $K_1$, $K_2$, and $C$ does to your plot.\n",
    "- Make sure that your axes are labeled and that you have a plot legend, if appropriate.\n",
    "\n",
    "### Explore the physics\n",
    "After tinkering with your plots, answer the following questions:\n",
    "\n",
    "1. As you increase $C$, how do the low-energy contours start to change?\n",
    "2. Does the force on $Q_1$ depend on the direction of $Q_2$?\n",
    "3. What do you expect the influence of driving $Q_2$ to be on the motion of $Q_1$?\n",
    "3. If $Q_1$ is kicked away from equilibrium, what do you expect its influence to be on $Q_2$?\n"
   ]
  },
  {
   "cell_type": "code",
   "execution_count": 2,
   "id": "632beae8-f157-4130-a255-1f1e2921d690",
   "metadata": {},
   "outputs": [],
   "source": [
    "import numpy as np\n",
    "import matplotlib.pyplot as plt"
   ]
  },
  {
   "cell_type": "raw",
   "id": "c5f69275-45da-46f7-9d67-58673db9b1e1",
   "metadata": {},
   "source": [
    "def Uplot(Q1, Q2=0, K1=1, K2=1, C=1):\n",
    "\n",
    "    # Define mesh for plotting\n",
    "    q1 = np.linspace(-2, 2, 2)\n",
    "    q2 = np.linspace(-2, 2, 2)\n",
    "    Q1, Q2 = np.meshgrid(q1, q2)\n",
    "    \n",
    "    # define the potential energy\n",
    "    U = 0.5 * (K1 * Q1**2) + 0.5 * (K2 * Q2**2) + (C * Q1 * Q2**2)  # K1 and K2 are spring constants\n",
    "    "
   ]
  },
  {
   "cell_type": "raw",
   "id": "d970504b-305c-4353-af6a-c9554d7de23d",
   "metadata": {},
   "source": [
    "def plot_U(Q1, Q2=0, K1=1, K2=1, C=1):\n",
    "    \n",
    "    # Generate the grid\n",
    "    q1 = np.linspace(-2, 2, 10)\n",
    "    q2 = np.linspace(-2, 2, 10)\n",
    "    Q1, Q2 = np.meshgrid(q1, q2)\n",
    "\n",
    "    # Define the function\n",
    "    U = 0.5 * (K1 * Q1**2) + 0.5 * (K2 * Q2**2) + (C * Q1 * Q2**2)  # K1 and K2 are spring constants\n",
    "\n",
    "    # Plot the function\n",
    "\n",
    "    # plt.figure(figsize=(4,3))\n",
    "    plt.plot(Q1, Q2=0, U, K1=1, K2=1, C=1)\n",
    "\n",
    "    # Show the plot\n",
    "plt.show()"
   ]
  },
  {
   "cell_type": "code",
   "execution_count": 39,
   "id": "0ebf0d1b-f8ce-4cdb-b250-4cacd6201742",
   "metadata": {},
   "outputs": [
    {
     "name": "stdout",
     "output_type": "stream",
     "text": [
      "Q1-values:\n",
      " [-4.         -3.91919192 -3.83838384 -3.75757576 -3.67676768 -3.5959596\n",
      " -3.51515152 -3.43434343 -3.35353535 -3.27272727 -3.19191919 -3.11111111\n",
      " -3.03030303 -2.94949495 -2.86868687 -2.78787879 -2.70707071 -2.62626263\n",
      " -2.54545455 -2.46464646 -2.38383838 -2.3030303  -2.22222222 -2.14141414\n",
      " -2.06060606 -1.97979798 -1.8989899  -1.81818182 -1.73737374 -1.65656566\n",
      " -1.57575758 -1.49494949 -1.41414141 -1.33333333 -1.25252525 -1.17171717\n",
      " -1.09090909 -1.01010101 -0.92929293 -0.84848485 -0.76767677 -0.68686869\n",
      " -0.60606061 -0.52525253 -0.44444444 -0.36363636 -0.28282828 -0.2020202\n",
      " -0.12121212 -0.04040404  0.04040404  0.12121212  0.2020202   0.28282828\n",
      "  0.36363636  0.44444444  0.52525253  0.60606061  0.68686869  0.76767677\n",
      "  0.84848485  0.92929293  1.01010101  1.09090909  1.17171717  1.25252525\n",
      "  1.33333333  1.41414141  1.49494949  1.57575758  1.65656566  1.73737374\n",
      "  1.81818182  1.8989899   1.97979798  2.06060606  2.14141414  2.22222222\n",
      "  2.3030303   2.38383838  2.46464646  2.54545455  2.62626263  2.70707071\n",
      "  2.78787879  2.86868687  2.94949495  3.03030303  3.11111111  3.19191919\n",
      "  3.27272727  3.35353535  3.43434343  3.51515152  3.5959596   3.67676768\n",
      "  3.75757576  3.83838384  3.91919192  4.        ]\n",
      "Q2-values:\n",
      " [-4.         -3.91919192 -3.83838384 -3.75757576 -3.67676768 -3.5959596\n",
      " -3.51515152 -3.43434343 -3.35353535 -3.27272727 -3.19191919 -3.11111111\n",
      " -3.03030303 -2.94949495 -2.86868687 -2.78787879 -2.70707071 -2.62626263\n",
      " -2.54545455 -2.46464646 -2.38383838 -2.3030303  -2.22222222 -2.14141414\n",
      " -2.06060606 -1.97979798 -1.8989899  -1.81818182 -1.73737374 -1.65656566\n",
      " -1.57575758 -1.49494949 -1.41414141 -1.33333333 -1.25252525 -1.17171717\n",
      " -1.09090909 -1.01010101 -0.92929293 -0.84848485 -0.76767677 -0.68686869\n",
      " -0.60606061 -0.52525253 -0.44444444 -0.36363636 -0.28282828 -0.2020202\n",
      " -0.12121212 -0.04040404  0.04040404  0.12121212  0.2020202   0.28282828\n",
      "  0.36363636  0.44444444  0.52525253  0.60606061  0.68686869  0.76767677\n",
      "  0.84848485  0.92929293  1.01010101  1.09090909  1.17171717  1.25252525\n",
      "  1.33333333  1.41414141  1.49494949  1.57575758  1.65656566  1.73737374\n",
      "  1.81818182  1.8989899   1.97979798  2.06060606  2.14141414  2.22222222\n",
      "  2.3030303   2.38383838  2.46464646  2.54545455  2.62626263  2.70707071\n",
      "  2.78787879  2.86868687  2.94949495  3.03030303  3.11111111  3.19191919\n",
      "  3.27272727  3.35353535  3.43434343  3.51515152  3.5959596   3.67676768\n",
      "  3.75757576  3.83838384  3.91919192  4.        ]\n",
      "\n",
      "Shape of Q1: (100, 100)\n",
      "Shape of Q2: (100, 100)\n",
      "\n",
      "Output of meshgrid for Q1:\n",
      " [[-4.         -3.91919192 -3.83838384 ...  3.83838384  3.91919192\n",
      "   4.        ]\n",
      " [-4.         -3.91919192 -3.83838384 ...  3.83838384  3.91919192\n",
      "   4.        ]\n",
      " [-4.         -3.91919192 -3.83838384 ...  3.83838384  3.91919192\n",
      "   4.        ]\n",
      " ...\n",
      " [-4.         -3.91919192 -3.83838384 ...  3.83838384  3.91919192\n",
      "   4.        ]\n",
      " [-4.         -3.91919192 -3.83838384 ...  3.83838384  3.91919192\n",
      "   4.        ]\n",
      " [-4.         -3.91919192 -3.83838384 ...  3.83838384  3.91919192\n",
      "   4.        ]]\n",
      "Output of meshgrid for Q2:\n",
      " [[-4.         -4.         -4.         ... -4.         -4.\n",
      "  -4.        ]\n",
      " [-3.91919192 -3.91919192 -3.91919192 ... -3.91919192 -3.91919192\n",
      "  -3.91919192]\n",
      " [-3.83838384 -3.83838384 -3.83838384 ... -3.83838384 -3.83838384\n",
      "  -3.83838384]\n",
      " ...\n",
      " [ 3.83838384  3.83838384  3.83838384 ...  3.83838384  3.83838384\n",
      "   3.83838384]\n",
      " [ 3.91919192  3.91919192  3.91919192 ...  3.91919192  3.91919192\n",
      "   3.91919192]\n",
      " [ 4.          4.          4.         ...  4.          4.\n",
      "   4.        ]]\n"
     ]
    }
   ],
   "source": [
    "# Generate the grid\n",
    "q1 = np.linspace(-4, 4, 100)\n",
    "q2 = np.linspace(-4, 4, 100)\n",
    "\n",
    "# Create a grid of q1 and q2 values\n",
    "Q1, Q2 = np.meshgrid(q1, q2)\n",
    "\n",
    "# Display the x, and y values, and the meshgrid and its shape\n",
    "print(\"Q1-values:\\n\", q1)\n",
    "print(\"Q2-values:\\n\", q2)\n",
    "print(\"\")\n",
    "print(\"Shape of Q1:\", Q1.shape)\n",
    "print(\"Shape of Q2:\", Q2.shape)\n",
    "print(\"\")\n",
    "print(\"Output of meshgrid for Q1:\\n\", Q1)\n",
    "print(\"Output of meshgrid for Q2:\\n\", Q2)"
   ]
  },
  {
   "cell_type": "code",
   "execution_count": 40,
   "id": "a39cd3bd-6e86-4140-8ed0-337d69d4916e",
   "metadata": {},
   "outputs": [
    {
     "name": "stdout",
     "output_type": "stream",
     "text": [
      "meshgrid for Q1:\n",
      " [[-4.         -3.91919192 -3.83838384 ...  3.83838384  3.91919192\n",
      "   4.        ]\n",
      " [-4.         -3.91919192 -3.83838384 ...  3.83838384  3.91919192\n",
      "   4.        ]\n",
      " [-4.         -3.91919192 -3.83838384 ...  3.83838384  3.91919192\n",
      "   4.        ]\n",
      " ...\n",
      " [-4.         -3.91919192 -3.83838384 ...  3.83838384  3.91919192\n",
      "   4.        ]\n",
      " [-4.         -3.91919192 -3.83838384 ...  3.83838384  3.91919192\n",
      "   4.        ]\n",
      " [-4.         -3.91919192 -3.83838384 ...  3.83838384  3.91919192\n",
      "   4.        ]]\n",
      "meshgrid for Q2:\n",
      " [[-4.         -4.         -4.         ... -4.         -4.\n",
      "  -4.        ]\n",
      " [-3.91919192 -3.91919192 -3.91919192 ... -3.91919192 -3.91919192\n",
      "  -3.91919192]\n",
      " [-3.83838384 -3.83838384 -3.83838384 ... -3.83838384 -3.83838384\n",
      "  -3.83838384]\n",
      " ...\n",
      " [ 3.83838384  3.83838384  3.83838384 ...  3.83838384  3.83838384\n",
      "   3.83838384]\n",
      " [ 3.91919192  3.91919192  3.91919192 ...  3.91919192  3.91919192\n",
      "   3.91919192]\n",
      " [ 4.          4.          4.         ...  4.          4.\n",
      "   4.        ]]\n",
      "function called on Q1, Q2 values:\n",
      " [[-48.         -47.02703806 -46.04754617 ...  76.78073666  78.38710336\n",
      "   80.        ]\n",
      " [-45.76022855 -44.8389785  -43.91119851 ...  74.0044543   75.5591091\n",
      "   77.12029385]\n",
      " [-43.56616672 -42.69557322 -41.81844978 ...  71.28483076  72.78882901\n",
      "   74.29935721]\n",
      " ...\n",
      " [-43.56616672 -42.69557322 -41.81844978 ...  71.28483076  72.78882901\n",
      "   74.29935721]\n",
      " [-45.76022855 -44.8389785  -43.91119851 ...  74.0044543   75.5591091\n",
      "   77.12029385]\n",
      " [-48.         -47.02703806 -46.04754617 ...  76.78073666  78.38710336\n",
      "   80.        ]]\n"
     ]
    }
   ],
   "source": [
    "K1=1; K2=1; C=1; #Q2=0\n",
    "\n",
    "# Define the function\n",
    "U = 0.5 * (K1 * Q1**2) + 0.5 * (K2 * Q2**2) + (C * Q1 * Q2**2)  # K1 and K2 are spring constants\n",
    "\n",
    "# Display the Z array to confirm the values\n",
    "print(\"meshgrid for Q1:\\n\", Q1)\n",
    "print(\"meshgrid for Q2:\\n\", Q2)\n",
    "print(\"function called on Q1, Q2 values:\\n\", U)\n"
   ]
  },
  {
   "cell_type": "code",
   "execution_count": 41,
   "id": "5a01eb7a-225b-436a-82a7-9c39a877f93d",
   "metadata": {},
   "outputs": [],
   "source": [
    "#print(np.transpose([Q1.flatten(), Q2.flatten(), U.flatten()]))"
   ]
  },
  {
   "cell_type": "code",
   "execution_count": 42,
   "id": "53bab943-dae0-4046-85bb-8661d44ee6b5",
   "metadata": {},
   "outputs": [
    {
     "data": {
      "image/png": "[encoded data removed]",
      "text/plain": [
       "<Figure size 600x500 with 1 Axes>"
      ]
     },
     "metadata": {},
     "output_type": "display_data"
    }
   ],
   "source": [
    "# Create the contour plot\n",
    "plt.figure(figsize=(6, 5))\n",
    "contour = plt.contour(Q1, Q2, U, levels=10)\n",
    "\n",
    "# Show the plot\n",
    "plt.show()"
   ]
  },
  {
   "cell_type": "code",
   "execution_count": null,
   "id": "d6c74026-8853-4d79-ac29-7a8ac15e9e94",
   "metadata": {},
   "outputs": [],
   "source": []
  }
 ],
 "metadata": {
  "kernelspec": {
   "display_name": "Python 3 (ipykernel)",
   "language": "python",
   "name": "python3"
  },
  "language_info": {
   "codemirror_mode": {
    "name": "ipython",
    "version": 3
   },
   "file_extension": ".py",
   "mimetype": "text/x-python",
   "name": "python",
   "nbconvert_exporter": "python",
   "pygments_lexer": "ipython3",
   "version": "3.9.19"
  }
 },
 "nbformat": 4,
 "nbformat_minor": 5
}
