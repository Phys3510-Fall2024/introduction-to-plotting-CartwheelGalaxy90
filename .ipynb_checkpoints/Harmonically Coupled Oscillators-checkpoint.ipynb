{
 "cells": [
  {
   "cell_type": "markdown",
   "id": "50f797ac-079f-499c-b044-d945bb757dcc",
   "metadata": {},
   "source": [
    "$U(Q_1,Q_2) = \\frac{1}{2} K_1 Q_1^2 + \\frac{1}{2} K_2 Q_2^2 + C Q_1 Q_2^2$"
   ]
  },
  {
   "cell_type": "markdown",
   "id": "f2ad49cd-9124-440c-9e66-c6800008c581",
   "metadata": {},
   "source": [
    "Create a Jupyter Notebook which defines the energy above and plots in two side-by-side panels:\n",
    "\n",
    "- Plot $U(Q_1,Q_2)$ with $Q_1$ on the horizonal axis and $Q_2=0$\n",
    "- Add several lines with fixed positive and negative values of $Q_2$ chosen to explore the possible effect of $Q_2$ on $Q_1$\n",
    "- Add a second panel which plots $U(Q_1,Q_2)$\n",
    "- Add an `ipywidgets` environment so that you can explore what different values of $K_1$, $K_2$, and $C$ does to your plot.\n",
    "- Make sure that your axes are labeled and that you have a plot legend, if appropriate.\n",
    "\n",
    "### Explore the physics\n",
    "After tinkering with your plots, answer the following questions:\n",
    "\n",
    "1. As you increase $C$, how do the low-energy contours start to change?\n",
    "2. Does the force on $Q_1$ depend on the direction of $Q_2$?\n",
    "3. What do you expect the influence of driving $Q_2$ to be on the motion of $Q_1$?\n",
    "3. If $Q_1$ is kicked away from equilibrium, what do you expect its influence to be on $Q_2$?\n"
   ]
  },
  {
   "cell_type": "code",
   "execution_count": 3,
   "id": "632beae8-f157-4130-a255-1f1e2921d690",
   "metadata": {},
   "outputs": [],
   "source": [
    "import numpy as np\n",
    "import matplotlib.pyplot as plt"
   ]
  },
  {
   "cell_type": "code",
   "execution_count": null,
   "id": "1df91c11-5063-4715-b798-9334ab546b23",
   "metadata": {},
   "outputs": [],
   "source": [
    "# define the potential energy\n",
    "def U(Q1, Q2=0, K1, K2, C):\n",
    "    return 0.5 * (K1 * Q1**2) + 0.5 * (K2 * Q2**2) + (C * Q1 * Q2**2)  # K1 and K2 are spring constants\n",
    "\n",
    "U()"
   ]
  }
 ],
 "metadata": {
  "kernelspec": {
   "display_name": "Python 3 (ipykernel)",
   "language": "python",
   "name": "python3"
  },
  "language_info": {
   "codemirror_mode": {
    "name": "ipython",
    "version": 3
   },
   "file_extension": ".py",
   "mimetype": "text/x-python",
   "name": "python",
   "nbconvert_exporter": "python",
   "pygments_lexer": "ipython3",
   "version": "3.9.19"
  }
 },
 "nbformat": 4,
 "nbformat_minor": 5
}
